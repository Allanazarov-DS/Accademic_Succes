{
 "cells": [
  {
   "cell_type": "code",
   "execution_count": 1,
   "metadata": {},
   "outputs": [],
   "source": [
    "import pandas as pd\n",
    "import matplotlib.pyplot as plt\n",
    "import seaborn as sns\n",
    "import numpy as np\n",
    "import streamlit as st\n",
    "from sklearn.preprocessing import OneHotEncoder, LabelEncoder"
   ]
  },
  {
   "cell_type": "markdown",
   "metadata": {},
   "source": [
    "##                                   **Bizning datasetning ustunlari**\n",
    "#### **Marital status** - (Oilaviy holat): Talabaning oilaviy holati (yolg'iz, uylangan/turmushga chiqqan va h.k.).\n",
    "#### **Application mode** - (Ariza berish usuli): Talabaning o'qishga qabul qilinishi uchun qanday usuldan foydalangani\n",
    "#### **Application order** - (Ariza berish tartibi): Talaba ariza bergan tartib raqami.\n",
    "#### **Course** - (Kurs): Talaba o'qiyotgan kursning nomi.\n",
    "#### **Daytime/evening attendance** - (Kunduzgi/kechki qatnashish): Talabaning kunduzgi yoki kechki darslarga qatnashishi.\n",
    "#### **Previous qualification** - (Oldingi malaka): Talabaning oldingi malakaviy darajasi.\n",
    "#### **Previous qualification (grade)** - (Oldingi malaka (bahosi)): Talabaning oldingi malakaviy bahosi.\n",
    "#### **Nationality** - (Millat): Talabaning millati.\n",
    "#### **Mother's qualification** - (Onaning malakasi): Talabaning onasining malakaviy darajasi.\n",
    "#### **Father's qualification** - (Otaning malakasi): Talabaning otasining malakaviy darajasi.\n",
    "#### **Mother's occupation** - (Onaning kasbi): Talabaning onasining kasbi.\n",
    "#### **Father's occupation** - (Otaning kasbi): Talabaning otasining kasbi.\n",
    "#### **Admission grade** - (Qabul bahosi): Talabaning universitetga kirish imtihonlaridagi bahosi.\n",
    "#### **Displaced** - (Joyidan ko'chirilgan): Talabaning joyidan ko'chirilganligi.\n",
    "#### **Educational special needs** - (Ta'limdagi maxsus ehtiyojlar): Talabaning ta'limdagi maxsus ehtiyojlari.\n",
    "#### **Debtor** - (Qarzli): Talabaning qarzlari borligi.\n",
    "#### **Tuition fees up to date** - (To'lovlar to'langanmi): Talabaning o'qish to'lovlari to'langanligi.\n",
    "#### **Gender** - (Jins): Talabaning jinsi.\n",
    "#### **Scholarship holder** - (Stipendiya oluvchi): Talabaning stipendiya olishi.\n",
    "#### **Age at enrollment** - (Qabul vaqtida yoshi): Talabaning universitetga qabul qilingandagi yoshi.\n",
    "#### **International** - (Xalqaro): Talabaning xalqaro talaba ekanligi.\n",
    "#### **Curricular units 1st sem (credited)** - (1-semestrdagi kreditlar): 1-semestrdagi kreditlar soni.\n",
    "#### **Curricular units 1st sem (enrolled)** - (1-semestrdagi o'qigan fanlar): 1-semestrda o'qigan fanlar soni.\n",
    "#### **Curricular units 1st sem (evaluations)** - (1-semestrdagi baholangan fanlar): 1-semestrda baholangan fanlar soni.\n",
    "#### **Curricular units 1st sem (approved)** - (1-semestrdagi o'tilgan fanlar): 1-semestrda muvaffaqiyatli o'tilgan fanlar soni.\n",
    "#### **Curricular units 1st sem (approved)** - (1-semestrdagi o'tilgan fanlar): 1-semestrda muvaffaqiyatli o'tilgan fanlar soni.\n",
    "#### **Curricular units 1st sem (without evaluations)** - (1-semestrda baholanmagan fanlar): 1-semestrda baholanmagan fanlar soni.\n",
    "#### **Curricular units 2nd sem (credited)** - (2-semestrdagi kreditlar): 2-semestrdagi kreditlar soni.\n",
    "#### **Curricular units 2nd sem (enrolled)** - (2-semestrdagi o'qigan fanlar): 2-semestrda o'qigan fanlar soni.\n",
    "#### **Curricular units 2nd sem (evaluations)** - (2-semestrdagi baholangan fanlar): 2-semestrda baholangan fanlar soni.\n",
    "#### **Curricular units 2nd sem (approved)** - (2-semestrdagi o'tilgan fanlar): 2-semestrda muvaffaqiyatli o'tilgan fanlar soni.\n",
    "#### **Curricular units 2nd sem (grade)** - (2-semestrdagi o'rtacha baho): 2-semestrda olingan o'rtacha baho.\n",
    "#### **Curricular units 2nd sem (without evaluations)** - (2-semestrda baholanmagan fanlar): 2-semestrda baholanmagan fanlar soni.\n",
    "#### **Unemployment rate** - (Ishsizlik darajasi): Talabaning yashaydigan mamlakatidagi ishsizlik darajasi.\n",
    "#### **Inflation rate** - (Inflyatsiya darajasi): Talabaning yashaydigan mamlakatidagi inflyatsiya darajasi.\n",
    "#### **GDP** - (YaIM): Talabaning yashaydigan mamlakatidagi yalpi ichki mahsulot.\n",
    "#### **Target** - (Maqsad): Bu ustun ko'pincha model qurishda nishon o'zgaruvchisi sifatida ishlatiladi, ya'ni talabaning akademik muvaffaqiyati yoki natijasi."
   ]
  },
  {
   "cell_type": "markdown",
   "metadata": {},
   "source": [
    "### Info methodidan foydalanib datasetimiz haqida ma'lumot olamiz (Nanlar soni vhkazo) hamda nullar ustunning necha foizini tashkil qilishini bilib olamiz"
   ]
  },
  {
   "cell_type": "code",
   "execution_count": 2,
   "metadata": {},
   "outputs": [
    {
     "name": "stdout",
     "output_type": "stream",
     "text": [
      "<class 'pandas.core.frame.DataFrame'>\n",
      "Index: 76518 entries, 0 to 76517\n",
      "Data columns (total 37 columns):\n",
      " #   Column                                          Non-Null Count  Dtype  \n",
      "---  ------                                          --------------  -----  \n",
      " 0   Marital status                                  74930 non-null  object \n",
      " 1   Application mode                                74660 non-null  object \n",
      " 2   Application order                               73745 non-null  float64\n",
      " 3   Course                                          75803 non-null  object \n",
      " 4   Daytime/evening attendance                      76345 non-null  object \n",
      " 5   Previous qualification                          74227 non-null  object \n",
      " 6   Previous qualification (grade)                  75423 non-null  float64\n",
      " 7   Nationality                                     75964 non-null  object \n",
      " 8   Mother's qualification                          74761 non-null  object \n",
      " 9   Father's qualification                          73997 non-null  object \n",
      " 10  Mother's occupation                             75907 non-null  object \n",
      " 11  Father's occupation                             76207 non-null  object \n",
      " 12  Admission grade                                 76161 non-null  float64\n",
      " 13  Displaced                                       75692 non-null  object \n",
      " 14  Educational special needs                       74825 non-null  object \n",
      " 15  Debtor                                          73739 non-null  object \n",
      " 16  Tuition fees up to date                         74398 non-null  object \n",
      " 17  Gender                                          73600 non-null  object \n",
      " 18  Scholarship holder                              74514 non-null  object \n",
      " 19  Age at enrollment                               74662 non-null  float64\n",
      " 20  International                                   74173 non-null  object \n",
      " 21  Curricular units 1st sem (credited)             74665 non-null  float64\n",
      " 22  Curricular units 1st sem (enrolled)             74985 non-null  float64\n",
      " 23  Curricular units 1st sem (evaluations)          73502 non-null  float64\n",
      " 24  Curricular units 1st sem (approved)             73787 non-null  float64\n",
      " 25  Curricular units 1st sem (grade)                74672 non-null  float64\n",
      " 26  Curricular units 1st sem (without evaluations)  74918 non-null  float64\n",
      " 27  Curricular units 2nd sem (credited)             74506 non-null  float64\n",
      " 28  Curricular units 2nd sem (enrolled)             75779 non-null  float64\n",
      " 29  Curricular units 2nd sem (evaluations)          75879 non-null  float64\n",
      " 30  Curricular units 2nd sem (approved)             75010 non-null  float64\n",
      " 31  Curricular units 2nd sem (grade)                73743 non-null  float64\n",
      " 32  Curricular units 2nd sem (without evaluations)  73955 non-null  float64\n",
      " 33  Unemployment rate                               74661 non-null  float64\n",
      " 34  Inflation rate                                  73462 non-null  float64\n",
      " 35  GDP                                             74760 non-null  float64\n",
      " 36  Target                                          75204 non-null  object \n",
      "dtypes: float64(19), object(18)\n",
      "memory usage: 95.8 MB\n"
     ]
    },
    {
     "data": {
      "text/plain": [
       "None"
      ]
     },
     "metadata": {},
     "output_type": "display_data"
    },
    {
     "data": {
      "text/plain": [
       "Marital status                                    2.075329\n",
       "Application mode                                  2.428187\n",
       "Application order                                 3.623984\n",
       "Course                                            0.934421\n",
       "Daytime/evening attendance                        0.226091\n",
       "Previous qualification                            2.994067\n",
       "Previous qualification (grade)                    1.431036\n",
       "Nationality                                       0.724013\n",
       "Mother's qualification                            2.296192\n",
       "Father's qualification                            3.294650\n",
       "Mother's occupation                               0.798505\n",
       "Father's occupation                               0.406440\n",
       "Admission grade                                   0.466557\n",
       "Displaced                                         1.079485\n",
       "Educational special needs                         2.212551\n",
       "Debtor                                            3.631825\n",
       "Tuition fees up to date                           2.770590\n",
       "Gender                                            3.813482\n",
       "Scholarship holder                                2.618992\n",
       "Age at enrollment                                 2.425573\n",
       "International                                     3.064638\n",
       "Curricular units 1st sem (credited)               2.421652\n",
       "Curricular units 1st sem (enrolled)               2.003450\n",
       "Curricular units 1st sem (evaluations)            3.941556\n",
       "Curricular units 1st sem (approved)               3.569095\n",
       "Curricular units 1st sem (grade)                  2.412504\n",
       "Curricular units 1st sem (without evaluations)    2.091011\n",
       "Curricular units 2nd sem (credited)               2.629447\n",
       "Curricular units 2nd sem (enrolled)               0.965786\n",
       "Curricular units 2nd sem (evaluations)            0.835098\n",
       "Curricular units 2nd sem (approved)               1.970778\n",
       "Curricular units 2nd sem (grade)                  3.626598\n",
       "Curricular units 2nd sem (without evaluations)    3.349539\n",
       "Unemployment rate                                 2.426880\n",
       "Inflation rate                                    3.993832\n",
       "GDP                                               2.297499\n",
       "Target                                            1.717243\n",
       "dtype: float64"
      ]
     },
     "metadata": {},
     "output_type": "display_data"
    }
   ],
   "source": [
    "df = pd.read_csv('Academic_Success.csv', index_col = 0)\n",
    "display(df.info(memory_usage='deep'))\n",
    "display(df.isnull().mean() * 100)"
   ]
  },
  {
   "cell_type": "markdown",
   "metadata": {},
   "source": [
    "### "
   ]
  },
  {
   "cell_type": "markdown",
   "metadata": {},
   "source": [
    "### Datasetimizda Nan qiymatlar mavjud ekan endi bularni tozalab olamiz"
   ]
  },
  {
   "cell_type": "markdown",
   "metadata": {},
   "source": [
    "### Datasetdagi ba'zi qiymatlarni shunchaki modasi yoki median yoki mean bilan to'ldirib qo'ya olmaymiz. Buning uchun biz avval 'Nationality' ustunini 'Course' ustuni orqali iloji boricha Nanlardan tozalab olamiz shu jumladan Course ustunini ham. Bunda ikkala ustundagi ham indexi NaN bo'lgan qiymatlargina qoladi qolgan NaNlar o'rni to'ladi"
   ]
  },
  {
   "cell_type": "code",
   "execution_count": 3,
   "metadata": {},
   "outputs": [
    {
     "data": {
      "text/plain": [
       "Marital status                                    2.075329\n",
       "Application mode                                  2.428187\n",
       "Application order                                 3.623984\n",
       "Course                                            0.005228\n",
       "Daytime/evening attendance                        0.226091\n",
       "Previous qualification                            2.994067\n",
       "Previous qualification (grade)                    1.431036\n",
       "Nationality                                       0.005228\n",
       "Mother's qualification                            2.296192\n",
       "Father's qualification                            3.294650\n",
       "Mother's occupation                               0.798505\n",
       "Father's occupation                               0.406440\n",
       "Admission grade                                   0.466557\n",
       "Displaced                                         1.079485\n",
       "Educational special needs                         2.212551\n",
       "Debtor                                            3.631825\n",
       "Tuition fees up to date                           2.770590\n",
       "Gender                                            3.813482\n",
       "Scholarship holder                                2.618992\n",
       "Age at enrollment                                 2.425573\n",
       "International                                     3.064638\n",
       "Curricular units 1st sem (credited)               2.421652\n",
       "Curricular units 1st sem (enrolled)               2.003450\n",
       "Curricular units 1st sem (evaluations)            3.941556\n",
       "Curricular units 1st sem (approved)               3.569095\n",
       "Curricular units 1st sem (grade)                  2.412504\n",
       "Curricular units 1st sem (without evaluations)    2.091011\n",
       "Curricular units 2nd sem (credited)               2.629447\n",
       "Curricular units 2nd sem (enrolled)               0.965786\n",
       "Curricular units 2nd sem (evaluations)            0.835098\n",
       "Curricular units 2nd sem (approved)               1.970778\n",
       "Curricular units 2nd sem (grade)                  3.626598\n",
       "Curricular units 2nd sem (without evaluations)    3.349539\n",
       "Unemployment rate                                 2.426880\n",
       "Inflation rate                                    3.993832\n",
       "GDP                                               2.297499\n",
       "Target                                            1.717243\n",
       "dtype: float64"
      ]
     },
     "execution_count": 3,
     "metadata": {},
     "output_type": "execute_result"
    }
   ],
   "source": [
    "def fill_nan_nationality(df):\n",
    "    gdp_mode_nationality = df.groupby('Course')['Nationality'].transform(lambda x: x.mode()[0] if not x.mode().empty else x)\n",
    "    nation_mode_gdp = df.groupby('Nationality')['Course'].transform(lambda x: x.mode()[0] if not x.mode().empty else x)\n",
    "    \n",
    "    df['Nationality'] = df['Nationality'].fillna(gdp_mode_nationality)\n",
    "    df['Course'] = df['Course'].fillna(nation_mode_gdp)\n",
    "    return df\n",
    "\n",
    "df = fill_nan_nationality(df)\n",
    "\n",
    "df.isna().mean() * 100"
   ]
  },
  {
   "cell_type": "markdown",
   "metadata": {},
   "source": [
    "### Biz yozgan funksiya Course va Nationality ustunlarini bir biri bilan NaNlarini tozalab berdi. Biz GDP ustunidan foydalanganligimizning sababi 37ta ustun uchun ichidan Nationalityga bog'liqligi yuqori bo'lgan ustun bu Course"
   ]
  },
  {
   "cell_type": "code",
   "execution_count": 4,
   "metadata": {},
   "outputs": [
    {
     "data": {
      "text/plain": [
       "Marital status                                    2.075329\n",
       "Application mode                                  2.428187\n",
       "Application order                                 3.623984\n",
       "Course                                            0.005228\n",
       "Daytime/evening attendance                        0.226091\n",
       "Previous qualification                            2.994067\n",
       "Previous qualification (grade)                    1.431036\n",
       "Nationality                                       0.005228\n",
       "Mother's qualification                            2.296192\n",
       "Father's qualification                            3.294650\n",
       "Mother's occupation                               0.798505\n",
       "Father's occupation                               0.406440\n",
       "Admission grade                                   0.466557\n",
       "Displaced                                         1.079485\n",
       "Educational special needs                         2.212551\n",
       "Debtor                                            3.631825\n",
       "Tuition fees up to date                           2.770590\n",
       "Gender                                            3.813482\n",
       "Scholarship holder                                2.618992\n",
       "Age at enrollment                                 2.425573\n",
       "International                                     3.064638\n",
       "Curricular units 1st sem (credited)               2.421652\n",
       "Curricular units 1st sem (enrolled)               2.003450\n",
       "Curricular units 1st sem (evaluations)            3.941556\n",
       "Curricular units 1st sem (approved)               3.569095\n",
       "Curricular units 1st sem (grade)                  2.412504\n",
       "Curricular units 1st sem (without evaluations)    2.091011\n",
       "Curricular units 2nd sem (credited)               2.629447\n",
       "Curricular units 2nd sem (enrolled)               0.965786\n",
       "Curricular units 2nd sem (evaluations)            0.835098\n",
       "Curricular units 2nd sem (approved)               1.970778\n",
       "Curricular units 2nd sem (grade)                  3.626598\n",
       "Curricular units 2nd sem (without evaluations)    3.349539\n",
       "Unemployment rate                                 2.426880\n",
       "Inflation rate                                    3.993832\n",
       "GDP                                               2.297499\n",
       "Target                                            1.717243\n",
       "dtype: float64"
      ]
     },
     "execution_count": 4,
     "metadata": {},
     "output_type": "execute_result"
    }
   ],
   "source": [
    "df.isna().mean() * 100"
   ]
  },
  {
   "cell_type": "markdown",
   "metadata": {},
   "source": [
    "### Nationality ustunini endi o'zining modalari bilan to'ldirib olamiz"
   ]
  },
  {
   "cell_type": "code",
   "execution_count": 5,
   "metadata": {},
   "outputs": [],
   "source": [
    "df['Nationality'] = df['Nationality'].fillna(df['Nationality'].mode()[0])"
   ]
  },
  {
   "cell_type": "markdown",
   "metadata": {},
   "source": [
    "### Bizga ba'zi categorik ustunlarni to'ldirishimiz uchun Gender va Nationality ustunlari kerak bo'ladi bizda Nationality ustuni tayyor endi Gender ustunini NaN qiymatlardan tozalaymiz"
   ]
  },
  {
   "cell_type": "code",
   "execution_count": 6,
   "metadata": {},
   "outputs": [
    {
     "data": {
      "text/plain": [
       "Marital status                                    2.075329\n",
       "Application mode                                  2.428187\n",
       "Application order                                 3.623984\n",
       "Course                                            0.005228\n",
       "Daytime/evening attendance                        0.226091\n",
       "Previous qualification                            2.994067\n",
       "Previous qualification (grade)                    1.431036\n",
       "Nationality                                       0.000000\n",
       "Mother's qualification                            2.296192\n",
       "Father's qualification                            3.294650\n",
       "Mother's occupation                               0.798505\n",
       "Father's occupation                               0.406440\n",
       "Admission grade                                   0.466557\n",
       "Displaced                                         1.079485\n",
       "Educational special needs                         2.212551\n",
       "Debtor                                            3.631825\n",
       "Tuition fees up to date                           2.770590\n",
       "Gender                                            0.000000\n",
       "Scholarship holder                                2.618992\n",
       "Age at enrollment                                 2.425573\n",
       "International                                     3.064638\n",
       "Curricular units 1st sem (credited)               2.421652\n",
       "Curricular units 1st sem (enrolled)               2.003450\n",
       "Curricular units 1st sem (evaluations)            3.941556\n",
       "Curricular units 1st sem (approved)               3.569095\n",
       "Curricular units 1st sem (grade)                  2.412504\n",
       "Curricular units 1st sem (without evaluations)    2.091011\n",
       "Curricular units 2nd sem (credited)               2.629447\n",
       "Curricular units 2nd sem (enrolled)               0.965786\n",
       "Curricular units 2nd sem (evaluations)            0.835098\n",
       "Curricular units 2nd sem (approved)               1.970778\n",
       "Curricular units 2nd sem (grade)                  3.626598\n",
       "Curricular units 2nd sem (without evaluations)    3.349539\n",
       "Unemployment rate                                 2.426880\n",
       "Inflation rate                                    3.993832\n",
       "GDP                                               2.297499\n",
       "Target                                            1.717243\n",
       "dtype: float64"
      ]
     },
     "execution_count": 6,
     "metadata": {},
     "output_type": "execute_result"
    }
   ],
   "source": [
    "# Fill NaN values in 'Gender' using the most frequent value within each 'Course' group\n",
    "df['Gender'] = df.groupby('Course')['Gender'].transform(lambda x: x.fillna(x.mode()[0] if not x.mode().empty else 'Unknown'))\n",
    "df['Gender'] = df['Gender'].fillna(df['Gender'].mode()[0]) # o'zi bilan ham to'dirib oldim\n",
    "df.isna().mean() * 100"
   ]
  },
  {
   "cell_type": "markdown",
   "metadata": {},
   "source": [
    "### Gender ustunini ham Course ustuni orqali tozalab oldik"
   ]
  },
  {
   "cell_type": "markdown",
   "metadata": {},
   "source": [
    "### Nationality va Gender ustunlari orqali 'Marital status', 'Previous qualification', 'Previous qualification (grade)', 'Mother\\'s qualification', \n",
    "'Father\\'s qualification', 'Mother\\'s occupation', 'Father\\'s occupation' ustunlarini NaN qiymatlardan tozalab olamiz"
   ]
  },
  {
   "cell_type": "code",
   "execution_count": 7,
   "metadata": {},
   "outputs": [],
   "source": [
    "def fill_nan_with_group_mode(df, group_col, group_col2 , fill_col):\n",
    "    mode_values = df.groupby([group_col, group_col2])[fill_col].apply(lambda x: x.mode().iloc[0] if not x.mode().empty else x)\n",
    "    df[fill_col] = df[fill_col].fillna(df[group_col].map(mode_values))\n",
    "    return df\n",
    "\n",
    "# Millat va Genderi bo'yicha ayrim ustunlarni to'ldirish\n",
    "columns_to_fill = ['Marital status', 'Previous qualification', 'Previous qualification (grade)', 'Mother\\'s qualification', \n",
    "                   'Father\\'s qualification', 'Mother\\'s occupation', 'Father\\'s occupation']\n",
    "\n",
    "for col in columns_to_fill:\n",
    "    df = fill_nan_with_group_mode(df, 'Nationality', \"Gender\", col)\n"
   ]
  },
  {
   "cell_type": "code",
   "execution_count": 8,
   "metadata": {},
   "outputs": [
    {
     "data": {
      "text/plain": [
       "Marital status                                    2.075329\n",
       "Application mode                                  2.428187\n",
       "Application order                                 3.623984\n",
       "Course                                            0.005228\n",
       "Daytime/evening attendance                        0.226091\n",
       "Previous qualification                            2.994067\n",
       "Previous qualification (grade)                    1.431036\n",
       "Nationality                                       0.000000\n",
       "Mother's qualification                            2.296192\n",
       "Father's qualification                            3.294650\n",
       "Mother's occupation                               0.798505\n",
       "Father's occupation                               0.406440\n",
       "Admission grade                                   0.466557\n",
       "Displaced                                         1.079485\n",
       "Educational special needs                         2.212551\n",
       "Debtor                                            3.631825\n",
       "Tuition fees up to date                           2.770590\n",
       "Gender                                            0.000000\n",
       "Scholarship holder                                2.618992\n",
       "Age at enrollment                                 2.425573\n",
       "International                                     3.064638\n",
       "Curricular units 1st sem (credited)               2.421652\n",
       "Curricular units 1st sem (enrolled)               2.003450\n",
       "Curricular units 1st sem (evaluations)            3.941556\n",
       "Curricular units 1st sem (approved)               3.569095\n",
       "Curricular units 1st sem (grade)                  2.412504\n",
       "Curricular units 1st sem (without evaluations)    2.091011\n",
       "Curricular units 2nd sem (credited)               2.629447\n",
       "Curricular units 2nd sem (enrolled)               0.965786\n",
       "Curricular units 2nd sem (evaluations)            0.835098\n",
       "Curricular units 2nd sem (approved)               1.970778\n",
       "Curricular units 2nd sem (grade)                  3.626598\n",
       "Curricular units 2nd sem (without evaluations)    3.349539\n",
       "Unemployment rate                                 2.426880\n",
       "Inflation rate                                    3.993832\n",
       "GDP                                               2.297499\n",
       "Target                                            1.717243\n",
       "dtype: float64"
      ]
     },
     "execution_count": 8,
     "metadata": {},
     "output_type": "execute_result"
    }
   ],
   "source": [
    "df.isna().mean() * 100"
   ]
  },
  {
   "cell_type": "markdown",
   "metadata": {},
   "source": [
    "### Endi boshqa ustunlarni object bo'lsa modasi bilan numeric bo'lsa o'rtacha qiymati bilan NaN qiymatlardan tozalab olamiz"
   ]
  },
  {
   "cell_type": "code",
   "execution_count": 9,
   "metadata": {},
   "outputs": [
    {
     "data": {
      "text/plain": [
       "Marital status                                    0.0\n",
       "Application mode                                  0.0\n",
       "Application order                                 0.0\n",
       "Course                                            0.0\n",
       "Daytime/evening attendance                        0.0\n",
       "Previous qualification                            0.0\n",
       "Previous qualification (grade)                    0.0\n",
       "Nationality                                       0.0\n",
       "Mother's qualification                            0.0\n",
       "Father's qualification                            0.0\n",
       "Mother's occupation                               0.0\n",
       "Father's occupation                               0.0\n",
       "Admission grade                                   0.0\n",
       "Displaced                                         0.0\n",
       "Educational special needs                         0.0\n",
       "Debtor                                            0.0\n",
       "Tuition fees up to date                           0.0\n",
       "Gender                                            0.0\n",
       "Scholarship holder                                0.0\n",
       "Age at enrollment                                 0.0\n",
       "International                                     0.0\n",
       "Curricular units 1st sem (credited)               0.0\n",
       "Curricular units 1st sem (enrolled)               0.0\n",
       "Curricular units 1st sem (evaluations)            0.0\n",
       "Curricular units 1st sem (approved)               0.0\n",
       "Curricular units 1st sem (grade)                  0.0\n",
       "Curricular units 1st sem (without evaluations)    0.0\n",
       "Curricular units 2nd sem (credited)               0.0\n",
       "Curricular units 2nd sem (enrolled)               0.0\n",
       "Curricular units 2nd sem (evaluations)            0.0\n",
       "Curricular units 2nd sem (approved)               0.0\n",
       "Curricular units 2nd sem (grade)                  0.0\n",
       "Curricular units 2nd sem (without evaluations)    0.0\n",
       "Unemployment rate                                 0.0\n",
       "Inflation rate                                    0.0\n",
       "GDP                                               0.0\n",
       "Target                                            0.0\n",
       "dtype: float64"
      ]
     },
     "execution_count": 9,
     "metadata": {},
     "output_type": "execute_result"
    }
   ],
   "source": [
    "for column in df.select_dtypes(\"number\").columns:\n",
    "    df[column] = df[column].fillna(df[column].mean())\n",
    "for column in df.select_dtypes('object'):\n",
    "    df[column] = df[column].fillna(df[column].mode()[0])\n",
    "\n",
    "df.isna().mean() * 100"
   ]
  },
  {
   "cell_type": "markdown",
   "metadata": {},
   "source": [
    "#### Datasetni Nan qiymatlardan tozalab oldik"
   ]
  },
  {
   "cell_type": "markdown",
   "metadata": {},
   "source": [
    "### Datasetimizning dastlabgi 10000ta qatorini kesib olamiz"
   ]
  },
  {
   "cell_type": "code",
   "execution_count": 10,
   "metadata": {},
   "outputs": [
    {
     "data": {
      "text/plain": [
       "(10000, 37)"
      ]
     },
     "execution_count": 10,
     "metadata": {},
     "output_type": "execute_result"
    }
   ],
   "source": [
    "df.iloc[:10000].to_csv('cleaned_data.csv')\n",
    "dg = pd.read_csv('cleaned_data.csv', index_col = 0)\n",
    "dg.shape"
   ]
  },
  {
   "cell_type": "code",
   "execution_count": null,
   "metadata": {},
   "outputs": [],
   "source": []
  }
 ],
 "metadata": {
  "kernelspec": {
   "display_name": "Python 3",
   "language": "python",
   "name": "python3"
  },
  "language_info": {
   "codemirror_mode": {
    "name": "ipython",
    "version": 3
   },
   "file_extension": ".py",
   "mimetype": "text/x-python",
   "name": "python",
   "nbconvert_exporter": "python",
   "pygments_lexer": "ipython3",
   "version": "3.12.3"
  }
 },
 "nbformat": 4,
 "nbformat_minor": 2
}
